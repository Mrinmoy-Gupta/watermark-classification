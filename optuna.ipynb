{
  "cells": [
    {
      "cell_type": "code",
      "execution_count": null,
      "id": "81163dcd-fffd-41dd-b6e7-bc82043ef048",
      "metadata": {
        "collapsed": true,
        "id": "81163dcd-fffd-41dd-b6e7-bc82043ef048",
        "jupyter": {
          "outputs_hidden": true
        },
        "tags": []
      },
      "outputs": [],
      "source": [
        "# !pip install optuna\n",
        "# !pip install optuna-integration\n",
        "# !pip install imutils\n",
        "# !pip install tensorflow_io"
      ]
    },
    {
      "cell_type": "code",
      "execution_count": null,
      "id": "fb8cc81f-217c-4c75-aeb8-38198d4fd461",
      "metadata": {
        "id": "fb8cc81f-217c-4c75-aeb8-38198d4fd461"
      },
      "outputs": [],
      "source": [
        "import tensorflow as tf\n",
        "import tensorflow.keras as k\n",
        "from tensorflow.keras.optimizers import Adam\n",
        "import tensorflow_io as tfio\n",
        "\n",
        "import optuna\n",
        "from optuna.integration import KerasPruningCallback\n",
        "from optuna.trial import TrialState\n",
        "\n",
        "from sklearn.model_selection import train_test_split\n",
        "from sklearn.metrics import classification_report\n",
        "from sklearn.metrics import confusion_matrix\n",
        "from imutils import paths\n",
        "import matplotlib.pyplot as plt\n",
        "import numpy as np\n",
        "import argparse\n",
        "import cv2\n",
        "import os"
      ]
    },
    {
      "cell_type": "code",
      "execution_count": null,
      "id": "041e0768-ed64-45aa-8b20-afea53d6c71a",
      "metadata": {
        "colab": {
          "base_uri": "https://localhost:8080/"
        },
        "id": "041e0768-ed64-45aa-8b20-afea53d6c71a",
        "outputId": "86e06342-2a24-48e6-cba5-d0b40596ab6e"
      },
      "outputs": [],
      "source": [
        "data= tf.keras.utils.image_dataset_from_directory('data', seed=42, image_size=(224, 224), label_mode='binary')\n",
        "scaled_data = data.map(lambda x, y:(tfio.experimental.color.rgb_to_bgr(x), y))\n",
        "scaled_data = scaled_data.map(lambda x, y:(x/255, y))"
      ]
    },
    {
      "cell_type": "code",
      "execution_count": null,
      "id": "I3d6MyfLyU-Q",
      "metadata": {
        "id": "I3d6MyfLyU-Q"
      },
      "outputs": [],
      "source": [
        "train_size = int(len(data)*.7)\n",
        "test_size = int(len(data)*.1)+2\n",
        "val_size = int(len(data)*.2)\n",
        "train = scaled_data.take(train_size)\n",
        "val = scaled_data.skip(train_size).take(val_size)\n",
        "test = scaled_data.skip(train_size+val_size).take(test_size)"
      ]
    },
    {
      "cell_type": "code",
      "execution_count": null,
      "id": "1edbeea7-e587-4c8f-a671-9d2d70e3f156",
      "metadata": {
        "id": "1edbeea7-e587-4c8f-a671-9d2d70e3f156"
      },
      "outputs": [],
      "source": [
        "global train, val"
      ]
    },
    {
      "cell_type": "code",
      "execution_count": null,
      "id": "3603bb32-df71-4099-885e-720aefda6d41",
      "metadata": {
        "id": "3603bb32-df71-4099-885e-720aefda6d41"
      },
      "outputs": [],
      "source": [
        "def create_model(trial):\n",
        "    # We optimize the number of layers, hidden units and dropout in each layer and\n",
        "    # the learning rate of RMSProp optimizer.\n",
        "\n",
        "    vgg_base_model = k.applications.vgg16.VGG16(include_top=False, input_shape=(224,224,3))\n",
        "    vgg_base_model.trainable=False\n",
        "    vgg_model = k.Sequential()\n",
        "    vgg_model.add(vgg_base_model)\n",
        "    vgg_model.add(k.layers.Flatten())\n",
        "    vgg_model.add(k.layers.BatchNormalization(scale=False))\n",
        "\n",
        "    n_layers = trial.suggest_int(\"n_layers\", 1, 3)\n",
        "    for i in range(n_layers):\n",
        "        num_hidden = trial.suggest_int(\"n_units_l{}\".format(i), 64, 512, log=True)\n",
        "        vgg_model.add(k.layers.Dense(num_hidden, activation=\"relu\"))\n",
        "        dropout = trial.suggest_float(\"dropout_l{}\".format(i), 0.2, 0.5)\n",
        "        vgg_model.add(k.layers.Dropout(rate=dropout))\n",
        "        if n_layers!=1:\n",
        "            vgg_model.add(k.layers.BatchNormalization(scale=False))\n",
        "        else:\n",
        "            vgg_model.add(k.layers.BatchNormalization())\n",
        "\n",
        "    vgg_model.add(k.layers.Dense(1, activation=\"sigmoid\"))\n",
        "\n",
        "    lr = trial.suggest_float(\"learning_rate\", 1e-5, 1e-1, log=True)\n",
        "\n",
        "    vgg_model.compile(\n",
        "        loss='binary_crossentropy',\n",
        "        optimizer=Adam(learning_rate=lr),\n",
        "        metrics=[\"accuracy\"],\n",
        "    )\n",
        "\n",
        "    return vgg_model"
      ]
    },
    {
      "cell_type": "code",
      "execution_count": null,
      "id": "cfae96ac-4550-4e96-827f-578db39c04e2",
      "metadata": {
        "id": "cfae96ac-4550-4e96-827f-578db39c04e2"
      },
      "outputs": [],
      "source": [
        "def objective(trial):\n",
        "    # Clear clutter from previous session graphs.\n",
        "    k.backend.clear_session()\n",
        "\n",
        "\n",
        "    # Generate our trial model.\n",
        "    model = create_model(trial)\n",
        "\n",
        "    # Fit the model on the training data.\n",
        "    # The KerasPruningCallback checks for pruning condition every epoch.\n",
        "    model.fit(\n",
        "        train,\n",
        "        callbacks=[KerasPruningCallback(trial, \"val_accuracy\")],\n",
        "        epochs=10,\n",
        "        validation_data=val,\n",
        "        verbose=1,\n",
        "    )\n",
        "\n",
        "    # Evaluate the model accuracy on the validation set.\n",
        "    score = model.evaluate(val, verbose=0)\n",
        "    return score[1]"
      ]
    },
    {
      "cell_type": "code",
      "execution_count": null,
      "id": "88aa8660-cf43-4afc-8320-fd82a01e0e1f",
      "metadata": {
        "colab": {
          "base_uri": "https://localhost:8080/"
        },
        "id": "88aa8660-cf43-4afc-8320-fd82a01e0e1f",
        "outputId": "2d0cc0c5-c570-49ad-a0c1-08391587fb7b",
        "tags": []
      },
      "outputs": [],
      "source": [
        "study = optuna.create_study(direction=\"maximize\", pruner=optuna.pruners.MedianPruner())\n",
        "study.optimize(objective, n_trials=100)\n",
        "\n",
        "pruned_trials = study.get_trials(deepcopy=False, states=[TrialState.PRUNED])\n",
        "complete_trials = study.get_trials(deepcopy=False, states=[TrialState.COMPLETE])\n",
        "\n",
        "print(\"Study statistics: \")\n",
        "print(\"  Number of finished trials: \", len(study.trials))\n",
        "print(\"  Number of pruned trials: \", len(pruned_trials))\n",
        "print(\"  Number of complete trials: \", len(complete_trials))\n",
        "\n",
        "print(\"Best trial:\")\n",
        "trial = study.best_trial\n",
        "print(\"  Value: \", trial.value)\n",
        "\n",
        "print(\"  Params: \")\n",
        "for key, value in trial.params.items():\n",
        "    print(\"    {}: {}\".format(key, value))"
      ]
    },
    {
      "cell_type": "code",
      "execution_count": null,
      "id": "98rnaHXMy_3G",
      "metadata": {
        "id": "98rnaHXMy_3G"
      },
      "outputs": [],
      "source": []
    }
  ],
  "metadata": {
    "accelerator": "GPU",
    "colab": {
      "gpuType": "T4",
      "provenance": []
    },
    "kernelspec": {
      "display_name": "Python 3",
      "name": "python3"
    },
    "language_info": {
      "codemirror_mode": {
        "name": "ipython",
        "version": 3
      },
      "file_extension": ".py",
      "mimetype": "text/x-python",
      "name": "python",
      "nbconvert_exporter": "python",
      "pygments_lexer": "ipython3",
      "version": "3.10.9"
    }
  },
  "nbformat": 4,
  "nbformat_minor": 5
}
