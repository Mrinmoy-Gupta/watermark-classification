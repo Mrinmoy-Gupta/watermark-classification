{
 "cells": [
  {
   "cell_type": "code",
   "execution_count": 229,
   "metadata": {},
   "outputs": [],
   "source": [
    "import os, shutil\n",
    "import numpy as np\n",
    "import matplotlib.pyplot as plt\n",
    "from PIL import Image\n",
    "from PIL import ImageFont\n",
    "from PIL import ImageDraw, ImageOps\n",
    "import string\n",
    "import numpy as np\n",
    "import cv2\n",
    "from tqdm import tqdm"
   ]
  },
  {
   "cell_type": "code",
   "execution_count": 2,
   "metadata": {},
   "outputs": [],
   "source": [
    "#set the seed\n",
    "np.random.seed(seed=123)"
   ]
  },
  {
   "cell_type": "markdown",
   "metadata": {},
   "source": [
    "# Function to generate watermarks on images "
   ]
  },
  {
   "cell_type": "code",
   "execution_count": 217,
   "metadata": {},
   "outputs": [],
   "source": [
    "#list of printable characters that could appear in a watermark\n",
    "prints = list(string.printable)[0:84]\n",
    "\n",
    "def gen_watermark(im_str, train = 1):\n",
    "    \n",
    "    #open all of the images from the VOC2008 dataset as jpegs\n",
    "    img = Image.open(\"raw_data/{}\".format(im_str))\n",
    "    \n",
    "    #save original image as np array to 'RAWS' directory\n",
    "    img.save('data/no-watermark/{}'.format(im_str))\n",
    "    \n",
    "    #generate random font size between 30-100\n",
    "    font_size = np.random.randint(low = 20, high = 100)\n",
    "    \n",
    "    #create the watermark font for the image\n",
    "    font = ImageFont.truetype(\"abel-regular.ttf\", font_size) \n",
    "    \n",
    "    #generate image to hold the watermark text object\n",
    "    img_temp = Image.new('L', (350,350))\n",
    "    \n",
    "    #create the watermark text, of random length, using random printable characters\n",
    "    text_str = np.random.choice(prints, np.random.randint(low=5, high = 10))\n",
    "    text_str = \"\".join(text_str)\n",
    "    \n",
    "    #draw on temporary image with text\n",
    "    draw_temp = ImageDraw.Draw(img_temp) \n",
    "    \n",
    "    #generate a random integer for the opacity argument (fill)\n",
    "    opac = np.random.randint(low=50, high=200)\n",
    "    \n",
    "    #insert text onto the temporary image\n",
    "    draw_temp.text((0, 0), text_str,  font=font, fill=opac)\n",
    "    \n",
    "    #generate a random integer for rotation:\n",
    "    rot_int = np.random.randint(low = 0, high = 20)\n",
    "    \n",
    "    #rotate the text on the temporary image\n",
    "    rotated_text = img_temp.rotate(rot_int,  expand=1)\n",
    "    \n",
    "    #default color of watermark set to white; change if desired\n",
    "    col_1 = (255,255,255)\n",
    "    col_2 = (255,255,255)\n",
    "    \n",
    "    #generate a random location for the watermark on the image\n",
    "    rand_loc = [np.random.randint(low=0,high=int(img.size[0]/2)), np.random.randint(low=0,high=int(img.size[1]/2))]\n",
    "    \n",
    "    #merge the temporary image with text with the image passed in \n",
    "    #third tuple also needs to be random: controls the location of the img\n",
    "    img.paste(ImageOps.colorize(rotated_text, col_1, col_2), rand_loc,  rotated_text)\n",
    "    \n",
    "    #this yeilds a new image with a watermark\n",
    "    #save this jpeg with a watermark to the WATS directory\n",
    "    img.save('data/watermark/{}'.format(im_str))\n",
    "#     return img"
   ]
  },
  {
   "cell_type": "code",
   "execution_count": 222,
   "metadata": {},
   "outputs": [],
   "source": [
    "# nwpath = \"data/no-watermark\"\n",
    "# wpath = \"data/watermark\"\n",
    "# os.mkdir(nwpath)\n",
    "# os.mkdir(wpath)"
   ]
  },
  {
   "cell_type": "code",
   "execution_count": 223,
   "metadata": {},
   "outputs": [],
   "source": [
    "#generate \n",
    "im_list = os.listdir(\"raw_data\")\n",
    "\n",
    "#run time is about 5-6 minutes for all 5000 images:\n",
    "for ind, img in enumerate(im_list):\n",
    "#     add the watermark to the image and save to 'watered' directory\n",
    "    wat_img = gen_watermark(img)"
   ]
  },
  {
   "cell_type": "code",
   "execution_count": 224,
   "metadata": {},
   "outputs": [
    {
     "data": {
      "text/plain": [
       "5096"
      ]
     },
     "execution_count": 224,
     "metadata": {},
     "output_type": "execute_result"
    }
   ],
   "source": [
    "im_list = os.listdir(\"data\\watermark\")\n",
    "len(im_list)"
   ]
  },
  {
   "cell_type": "code",
   "execution_count": 225,
   "metadata": {},
   "outputs": [],
   "source": [
    "data_dir = []\n",
    "data_dir = 'data'\n",
    "image_exts = ['jpg', 'jpeg', 'png']"
   ]
  },
  {
   "cell_type": "code",
   "execution_count": 230,
   "metadata": {},
   "outputs": [
    {
     "name": "stderr",
     "output_type": "stream",
     "text": [
      "100%|█████████████████████████████████████████████████████████████████████████████| 5096/5096 [00:30<00:00, 167.56it/s]\n",
      "100%|█████████████████████████████████████████████████████████████████████████████| 5096/5096 [00:26<00:00, 194.74it/s]\n"
     ]
    }
   ],
   "source": [
    "from struct import unpack\n",
    "\n",
    "marker_mapping = {\n",
    "    0xffd8: \"Start of Image\",\n",
    "    0xffe0: \"Application Default Header\",\n",
    "    0xffdb: \"Quantization Table\",\n",
    "    0xffc0: \"Start of Frame\",\n",
    "    0xffc4: \"Define Huffman Table\",\n",
    "    0xffda: \"Start of Scan\",\n",
    "    0xffd9: \"End of Image\"\n",
    "}\n",
    "\n",
    "\n",
    "class JPEG:\n",
    "    def __init__(self, image_file):\n",
    "        with open(image_file, 'rb') as f:\n",
    "            self.img_data = f.read()\n",
    "    \n",
    "    def decode(self):\n",
    "        data = self.img_data\n",
    "        while(True):\n",
    "            marker, = unpack(\">H\", data[0:2])\n",
    "            # print(marker_mapping.get(marker))\n",
    "            if marker == 0xffd8:\n",
    "                data = data[2:]\n",
    "            elif marker == 0xffd9:\n",
    "                return\n",
    "            elif marker == 0xffda:\n",
    "                data = data[-2:]\n",
    "            else:\n",
    "                lenchunk, = unpack(\">H\", data[2:4])\n",
    "                data = data[2+lenchunk:]            \n",
    "            if len(data)==0:\n",
    "                break        \n",
    "\n",
    "\n",
    "bads = []\n",
    "for image_class in os.listdir(data_dir):\n",
    "    for image in tqdm(os.listdir(os.path.join(data_dir, image_class))):\n",
    "        image_path = os.path.join(data_dir, image_class, image)\n",
    "        image = JPEG(image_path) \n",
    "        try:\n",
    "          image.decode()   \n",
    "        except:\n",
    "          bads.append(image_path)\n",
    "\n",
    "\n",
    "    for name in bads:\n",
    "#         os.remove(name)\n",
    "        print(name)"
   ]
  },
  {
   "cell_type": "code",
   "execution_count": 240,
   "metadata": {},
   "outputs": [],
   "source": [
    "def remove_corrupted_images(directory, bad):\n",
    "    for image_class in os.listdir(directory):\n",
    "        for image in tqdm(os.listdir(os.path.join(directory, image_class))):\n",
    "            image_path = os.path.join(directory, image_class, image)\n",
    "            try:\n",
    "                img = cv2.imread(image_path)\n",
    "#                 tip = imghdr.what(image_path)\n",
    "#                 if tip not in image_exts:\n",
    "#                     print(f\"image extension not valid for path {image_path}\")\n",
    "#                     bad.append(image_path)\n",
    "# #                     os.remove(image_path)\n",
    "            except:\n",
    "                print(f\"Corrupted image at {image_path}\")\n",
    "                bad.append(image_path)\n",
    "#                 os.remove(image_path)"
   ]
  },
  {
   "cell_type": "code",
   "execution_count": null,
   "metadata": {},
   "outputs": [],
   "source": [
    "corrupted = []\n",
    "remove_corrupted_images(data_dir, corrupted)"
   ]
  }
 ],
 "metadata": {
  "kernelspec": {
   "display_name": "Python 3 (ipykernel)",
   "language": "python",
   "name": "python3"
  },
  "language_info": {
   "codemirror_mode": {
    "name": "ipython",
    "version": 3
   },
   "file_extension": ".py",
   "mimetype": "text/x-python",
   "name": "python",
   "nbconvert_exporter": "python",
   "pygments_lexer": "ipython3",
   "version": "3.10.9"
  }
 },
 "nbformat": 4,
 "nbformat_minor": 2
}
